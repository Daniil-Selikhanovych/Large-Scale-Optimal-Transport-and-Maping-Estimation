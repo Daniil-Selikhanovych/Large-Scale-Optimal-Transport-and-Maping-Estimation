{
 "cells": [
  {
   "cell_type": "markdown",
   "metadata": {},
   "source": [
    "# Import dependencies\n",
    "\n",
    "Using `conda` is recommended, but you can use `pip`. First, you may need to install \n",
    "* NumPy - `pip install numpy`,\n",
    "* Matplotlib - `pip install matplotlib`,\n",
    "* PyTorch - `pip install torch torchvision`.\n",
    "\n",
    "Second, you need to change the current directory to `neural-ot`. Just run the cell below."
   ]
  },
  {
   "cell_type": "code",
   "execution_count": null,
   "metadata": {},
   "outputs": [],
   "source": [
    "cd .."
   ]
  },
  {
   "cell_type": "markdown",
   "metadata": {},
   "source": [
    "Now you can import all required dependencies."
   ]
  },
  {
   "cell_type": "code",
   "execution_count": 3,
   "metadata": {},
   "outputs": [
    {
     "name": "stdout",
     "output_type": "stream",
     "text": [
      "The autoreload extension is already loaded. To reload it, use:\n",
      "  %reload_ext autoreload\n"
     ]
    }
   ],
   "source": [
    "%load_ext autoreload\n",
    "%autoreload 2\n",
    "\n",
    "import numpy as np\n",
    "import matplotlib.pyplot as plt\n",
    "from tqdm import tqdm\n",
    "\n",
    "import torch\n",
    "import torch.nn as nn\n",
    "from torchvision.datasets import MNIST, USPS\n",
    "from torch.utils.data import ConcatDataset\n",
    "import torchvision.transforms as transforms\n",
    "from torch.optim import Adam\n",
    "from torch.optim.lr_scheduler import MultiStepLR, ExponentialLR\n",
    "from torch.distributions import MultivariateNormal\n",
    "\n",
    "from neural_ot.data_loading import ZipLoader\n",
    "from neural_ot.model import NeuralOT, Unflatten, Vector\n",
    "from neural_ot.train import train\n",
    "\n",
    "torch.manual_seed(42)"
   ]
  },
  {
   "cell_type": "markdown",
   "metadata": {},
   "source": [
    "# Global variables\n",
    "First, we set `DEVICE` and `IS_CUDA` global variables."
   ]
  },
  {
   "cell_type": "code",
   "execution_count": 4,
   "metadata": {},
   "outputs": [],
   "source": [
    "if torch.cuda.is_available():\n",
    "    DEVICE = torch.device('cuda:1')\n",
    "    IS_CUDA = True\n",
    "else:\n",
    "    DEVICE = torch.device('cpu')\n",
    "    IS_CUDA = False"
   ]
  },
  {
   "cell_type": "markdown",
   "metadata": {},
   "source": [
    "Second, we download MNIST and USPS datasets using `torchvision.datasets`. We normalize intensities from the default interval $[0, 1]$ to the interval $[-1, 1]$ via linear transformation $I' = (I - 0.5) / 0.5$ (as it was done in the original paper). Also for the generative modeling task we concatenate train and test sets to the single dataset, held in global variable `mnist`. The same is done with `usps`."
   ]
  },
  {
   "cell_type": "code",
   "execution_count": 5,
   "metadata": {},
   "outputs": [],
   "source": [
    "h, w = 16, 16\n",
    "mnist_tr = transforms.Compose([transforms.Resize((h, w)),\n",
    "                               transforms.ToTensor(), \n",
    "                               transforms.Normalize([.5], [.5]),\n",
    "                               ])\n",
    "usps_tr  = transforms.Compose([transforms.ToTensor(), \n",
    "                               transforms.Normalize([.5], [.5]),\n",
    "                               ])"
   ]
  },
  {
   "cell_type": "code",
   "execution_count": 6,
   "metadata": {},
   "outputs": [],
   "source": [
    "mnist_train = MNIST('data/mnist', download=True, transform=mnist_tr, train=True)\n",
    "mnist_test = MNIST('data/mnist', download=True, transform=mnist_tr, train=False)\n",
    "mnist = ConcatDataset([mnist_train, mnist_test])\n",
    "\n",
    "usps_train = USPS('data/usps', download=True, transform=usps_tr, train=True)\n",
    "usps_test = USPS('data/usps', download=True, transform=usps_tr, train=False)\n",
    "usps = ConcatDataset([usps_train, usps_test])"
   ]
  },
  {
   "cell_type": "code",
   "execution_count": 7,
   "metadata": {},
   "outputs": [],
   "source": [
    "BATCH_SIZE = 300\n",
    "N_BATCHES_PER_EPOCH = 10\n",
    "N_WORKERS = 4"
   ]
  },
  {
   "cell_type": "code",
   "execution_count": 8,
   "metadata": {},
   "outputs": [],
   "source": [
    "paired_loader = ZipLoader(mnist, usps, batch_size=BATCH_SIZE, n_batches=N_BATCHES_PER_EPOCH, \n",
    "                          pin_memory=IS_CUDA, return_idx=True, num_workers=N_WORKERS)"
   ]
  },
  {
   "cell_type": "code",
   "execution_count": 9,
   "metadata": {},
   "outputs": [
    {
     "name": "stdout",
     "output_type": "stream",
     "text": [
      "torch.Size([300]) torch.Size([300, 1, 16, 16]) torch.Size([300]) torch.Size([300, 1, 16, 16])\n"
     ]
    }
   ],
   "source": [
    "for (x_idx, x), (y_idx, y) in paired_loader:\n",
    "    print(x_idx.shape, x.shape, y_idx.shape, y.shape)\n",
    "    break"
   ]
  },
  {
   "cell_type": "code",
   "execution_count": 10,
   "metadata": {},
   "outputs": [
    {
     "data": {
      "text/plain": [
       "<matplotlib.image.AxesImage at 0x7fb06ddca6a0>"
      ]
     },
     "execution_count": 10,
     "metadata": {},
     "output_type": "execute_result"
    },
    {
     "data": {
      "image/png": "[encoded data removed]",
      "text/plain": [
       "<Figure size 432x288 with 1 Axes>"
      ]
     },
     "metadata": {
      "needs_background": "light"
     },
     "output_type": "display_data"
    }
   ],
   "source": [
    "plt.imshow(y[0, 0].numpy(), cmap=\"Greys\")"
   ]
  },
  {
   "cell_type": "markdown",
   "metadata": {},
   "source": [
    "We parametrized the $u$ and $v$ functions as neural networks as they provided better performance in our setting. Nevertheless, one can use `Vector` class to treat $u$ and $v$ as vectors. In this case don't forget to uncomment corresponding lines."
   ]
  },
  {
   "cell_type": "code",
   "execution_count": null,
   "metadata": {},
   "outputs": [],
   "source": [
    "source_dual_net = nn.Sequential(\n",
    "    nn.Flatten(),\n",
    "    nn.Linear(h * w, 1024),\n",
    "    nn.ReLU(),\n",
    "    nn.BatchNorm1d(1024),\n",
    "    nn.Linear(1024, 1024),\n",
    "    nn.ReLU(),\n",
    "    nn.BatchNorm1d(1024),\n",
    "    nn.Linear(1024, 1),\n",
    "    nn.Flatten(start_dim=0)\n",
    ")\n",
    "# source_dual_net = Vector(initial=1e-2 * torch.randn(len(mnist)))\n",
    "\n",
    "target_dual_net = nn.Sequential(\n",
    "    nn.Flatten(),\n",
    "    nn.Linear(h * w, 1024),\n",
    "    nn.ReLU(),\n",
    "    nn.BatchNorm1d(1024),\n",
    "    nn.Linear(1024, 1024),\n",
    "    nn.ReLU(),\n",
    "    nn.BatchNorm1d(1024),\n",
    "    nn.Linear(1024, 1),\n",
    "    nn.Flatten(start_dim=0)\n",
    ")\n",
    "# source_dual_net = Vector(initial=1e-2 * torch.randn(len(usps)))\n",
    "\n",
    "source_to_target_net = nn.Sequential(\n",
    "    nn.Flatten(),\n",
    "    nn.Linear(h * w, 1024),\n",
    "    nn.ReLU(),\n",
    "    nn.BatchNorm1d(1024),\n",
    "    nn.Linear(1024, 1024),\n",
    "    nn.ReLU(),\n",
    "    nn.BatchNorm1d(1024),\n",
    "    nn.Linear(1024, h * w),\n",
    "    Unflatten(h, w),\n",
    "    nn.Tanh()\n",
    ")"
   ]
  },
  {
   "cell_type": "code",
   "execution_count": 12,
   "metadata": {},
   "outputs": [],
   "source": [
    "# ot = torch.load('generative_model.pth')\n",
    "ot = NeuralOT(source_dual_net, target_dual_net, source_to_target_net, \n",
    "              regularization_mode='l2', regularization_parameter=0.05, \n",
    "              from_discrete=False, to_discrete=False).to(DEVICE)\n",
    "\n",
    "## In the case we use vectors, we are working in the discrete setting\n",
    "# ot = NeuralOT(source_dual_net, target_dual_net, source_to_target_net, \n",
    "#               regularization_mode='l2', regularization_parameter=0.05, \n",
    "#               from_discrete=True, to_discrete=True).to(DEVICE)"
   ]
  },
  {
   "cell_type": "code",
   "execution_count": 13,
   "metadata": {},
   "outputs": [],
   "source": [
    "plan_optimizer = Adam(ot.parameters(), lr=1e-3)\n",
    "plan_scheduler = MultiStepLR(plan_optimizer, [20, 75])\n",
    "\n",
    "# # The training procedure is changed too\n",
    "# plan_optimizer = Adam(ot.parameters(), lr=1.)\n",
    "# plan_scheduler = MultiStepLR(plan_optimizer, [100, 400, 800])"
   ]
  },
  {
   "cell_type": "code",
   "execution_count": 14,
   "metadata": {
    "scrolled": true
   },
   "outputs": [
    {
     "name": "stderr",
     "output_type": "stream",
     "text": [
      "100%|██████████| 1000/1000 [06:51<00:00,  2.43it/s]\n"
     ]
    }
   ],
   "source": [
    "losses = train(ot.plan_criterion, plan_optimizer, paired_loader, n_epochs=1000, device=DEVICE, \n",
    "               scheduler=plan_scheduler)"
   ]
  },
  {
   "cell_type": "code",
   "execution_count": 15,
   "metadata": {},
   "outputs": [
    {
     "data": {
      "text/plain": [
       "[<matplotlib.lines.Line2D at 0x7fb06fd8ceb8>]"
      ]
     },
     "execution_count": 15,
     "metadata": {},
     "output_type": "execute_result"
    },
    {
     "data": {
      "image/png": "[encoded data removed]",
      "text/plain": [
       "<Figure size 432x288 with 1 Axes>"
      ]
     },
     "metadata": {
      "needs_background": "light"
     },
     "output_type": "display_data"
    }
   ],
   "source": [
    "plt.plot(losses)"
   ]
  },
  {
   "cell_type": "code",
   "execution_count": 16,
   "metadata": {},
   "outputs": [],
   "source": [
    "mapping_optimizer = Adam(ot.parameters(), lr=1e-4)\n",
    "mapping_scheduler = None"
   ]
  },
  {
   "cell_type": "code",
   "execution_count": 17,
   "metadata": {},
   "outputs": [
    {
     "name": "stderr",
     "output_type": "stream",
     "text": [
      "100%|██████████| 1000/1000 [06:51<00:00,  2.43it/s]\n"
     ]
    }
   ],
   "source": [
    "mapping_losses = train(ot.mapping_criterion, mapping_optimizer, paired_loader, n_epochs=1000, device=DEVICE, \n",
    "                       scheduler=mapping_scheduler)"
   ]
  },
  {
   "cell_type": "code",
   "execution_count": 18,
   "metadata": {},
   "outputs": [
    {
     "data": {
      "text/plain": [
       "[<matplotlib.lines.Line2D at 0x7fb06a412710>]"
      ]
     },
     "execution_count": 18,
     "metadata": {},
     "output_type": "execute_result"
    },
    {
     "data": {
      "image/png": "[encoded data removed]",
      "text/plain": [
       "<Figure size 432x288 with 1 Axes>"
      ]
     },
     "metadata": {
      "needs_background": "light"
     },
     "output_type": "display_data"
    }
   ],
   "source": [
    "plt.plot(mapping_losses)"
   ]
  },
  {
   "cell_type": "code",
   "execution_count": 19,
   "metadata": {},
   "outputs": [
    {
     "data": {
      "image/png": "[encoded data removed]",
      "text/plain": [
       "<Figure size 1440x432 with 20 Axes>"
      ]
     },
     "metadata": {},
     "output_type": "display_data"
    }
   ],
   "source": [
    "n_samples = 10\n",
    "idx = torch.multinomial(torch.ones(len(mnist)), n_samples)\n",
    "ot.eval().cpu()\n",
    "\n",
    "fig, axes = plt.subplots(2, n_samples, figsize=(20, 6))\n",
    "\n",
    "for i in range(n_samples):\n",
    "    img = mnist[idx[i]][0]\n",
    "    axes[0, i].imshow(img.squeeze(), cmap=\"Greys\")\n",
    "    axes[0, i].set_xticks([])\n",
    "    axes[0, i].set_yticks([])\n",
    "\n",
    "    mapped = ot.map(img.reshape(1, 1, h, w))\n",
    "    axes[1, i].imshow(mapped.squeeze().detach().numpy(), cmap=\"Greys\")\n",
    "    axes[1, i].set_xticks([])\n",
    "    axes[1, i].set_yticks([])\n",
    "    \n",
    "plt.tight_layout()\n",
    "fig.savefig(\"mappings.png\")"
   ]
  },
  {
   "cell_type": "code",
   "execution_count": 20,
   "metadata": {},
   "outputs": [
    {
     "name": "stderr",
     "output_type": "stream",
     "text": [
      "MNIST: 100%|██████████| 70000/70000 [00:07<00:00, 9567.54it/s]\n",
      "USPS: 100%|██████████| 9298/9298 [00:00<00:00, 12049.85it/s]\n",
      "MNIST -> USPS:   0%|          | 196/70000 [00:00<00:35, 1953.71it/s]"
     ]
    },
    {
     "name": "stdout",
     "output_type": "stream",
     "text": [
      "1-KNN accuracy: 0.735\n"
     ]
    },
    {
     "name": "stderr",
     "output_type": "stream",
     "text": [
      "MNIST -> USPS: 100%|██████████| 70000/70000 [00:42<00:00, 1630.36it/s]\n"
     ]
    },
    {
     "name": "stdout",
     "output_type": "stream",
     "text": [
      "Mapped 1-KNN accuracy: 0.608\n"
     ]
    }
   ],
   "source": [
    "X_source, y_source = [], []\n",
    "for i in tqdm(range(len(mnist)), \"MNIST\"):\n",
    "    X, y = mnist[i]\n",
    "    X_source.append(X)\n",
    "    y_source.append(y)\n",
    "\n",
    "X_source = torch.cat(X_source).reshape(-1, h*w).numpy()\n",
    "y_source = np.array(y_source)\n",
    "\n",
    "X_target, y_target = [], []\n",
    "for i in tqdm(range(len(usps)), \"USPS\"):\n",
    "    X, y = usps[i]\n",
    "    X_target.append(X)\n",
    "    y_target.append(y)\n",
    "\n",
    "X_target = torch.cat(X_target).reshape(-1, h*w).numpy()\n",
    "y_target = np.array(y_target)\n",
    "\n",
    "from sklearn.neighbors import KNeighborsClassifier\n",
    "from sklearn.metrics import accuracy_score\n",
    "\n",
    "clf = KNeighborsClassifier(n_neighbors=1)#, metric=\"correlation\")\n",
    "clf.fit(X_source, y_source)\n",
    "\n",
    "y_pred = clf.predict(X_target)\n",
    "print(\"1-KNN accuracy: {:.3f}\".format(accuracy_score(y_target, y_pred)))\n",
    "\n",
    "X_source_mapped, y_source_mapped = [], []\n",
    "for i in tqdm(range(len(mnist)), \"MNIST -> USPS\"):\n",
    "    X, y = mnist[i]\n",
    "    mapped = ot.map(X.reshape(1, 1, h, w))\n",
    "    X_source_mapped.append(mapped.squeeze())\n",
    "    y_source_mapped.append(y)\n",
    "\n",
    "X_source_mapped = torch.cat(X_source_mapped).reshape(-1, h*w).detach().numpy()\n",
    "y_source_mapped = np.array(y_source_mapped)\n",
    "\n",
    "clf = KNeighborsClassifier(n_neighbors=1)#, metric=\"correlation\")\n",
    "clf.fit(X_source_mapped, y_source_mapped)\n",
    "\n",
    "y_pred = clf.predict(X_target)\n",
    "print(\"Mapped 1-KNN accuracy: {:.3f}\".format(accuracy_score(y_target, y_pred)))"
   ]
  },
  {
   "cell_type": "code",
   "execution_count": 22,
   "metadata": {},
   "outputs": [],
   "source": [
    "torch.save(ot, 'adaptation_model.pth')"
   ]
  },
  {
   "cell_type": "code",
   "execution_count": null,
   "metadata": {},
   "outputs": [],
   "source": []
  }
 ],
 "metadata": {
  "kernelspec": {
   "display_name": "Python 3",
   "language": "python",
   "name": "python3"
  },
  "language_info": {
   "codemirror_mode": {
    "name": "ipython",
    "version": 3
   },
   "file_extension": ".py",
   "mimetype": "text/x-python",
   "name": "python",
   "nbconvert_exporter": "python",
   "pygments_lexer": "ipython3",
   "version": "3.7.3"
  }
 },
 "nbformat": 4,
 "nbformat_minor": 4
}

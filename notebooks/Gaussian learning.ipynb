{
 "cells": [
  {
   "cell_type": "markdown",
   "metadata": {},
   "source": [
    "# Imports"
   ]
  },
  {
   "cell_type": "code",
   "execution_count": 1,
   "metadata": {},
   "outputs": [],
   "source": [
    "import torch\n",
    "from torch.distributions.multivariate_normal import MultivariateNormal\n",
    "from torch import nn\n",
    "import numpy as np\n",
    "from functools import partial\n",
    "import matplotlib.pyplot as plt "
   ]
  },
  {
   "cell_type": "markdown",
   "metadata": {},
   "source": [
    "# Constants"
   ]
  },
  {
   "cell_type": "code",
   "execution_count": 2,
   "metadata": {},
   "outputs": [],
   "source": [
    "my_random_state = 42\n",
    "BATCH_SIZE_default = 1024\n",
    "eps_default = 1e-2\n",
    "mode_default = 'l2'\n",
    "lr_default = 1e-2"
   ]
  },
  {
   "cell_type": "markdown",
   "metadata": {},
   "source": [
    "# Data generation and visualization"
   ]
  },
  {
   "cell_type": "code",
   "execution_count": 3,
   "metadata": {},
   "outputs": [],
   "source": [
    "def gaussian_sampler_2d(gaussian_center, cov_matrix):\n",
    "    mu_distr = MultivariateNormal(gaussian_center, cov_matrix)\n",
    "    return mu_distr\n",
    "\n",
    "def gaussian_data_sampling(gaussian_center, cov_matrix, data_num):\n",
    "    sampler = gaussian_sampler_2d(gaussian_center, cov_matrix)\n",
    "    data = sampler.sample(sample_shape=torch.Size([data_num]))\n",
    "    return data\n",
    "    \n",
    "def plot_data_gaussians(data_mu, data_nu):\n",
    "    fig = plt.figure(figsize=(10,10))\n",
    "\n",
    "    plt.xlabel(r'$x$') \n",
    "    plt.ylabel(r'$y$') \n",
    "    plt.title('1 and 8 gaussians') \n",
    "\n",
    "    plt.scatter(data_mu[:, 0], data_mu[:, 1], label = r'$\\mu$-s gaussian', marker='+')\n",
    "    plt.scatter(data_nu[:, 0], data_nu[:, 1], label = r'$\\nu$-s gaussians', marker='+', color = 'r')\n",
    "\n",
    "    plt.legend()\n",
    "    plt.grid(True) \n",
    "\n",
    "def gaussian_data_sampling_nu(centers_nu, cov_matrix, BATCH_SIZE, random_state):\n",
    "    torch.manual_seed(random_state)\n",
    "    np.random.seed(random_state)\n",
    "    index_to_choice = np.random.randint(centers_nu.shape[0], size = BATCH_SIZE)\n",
    "    data_nu = gaussian_data_sampling(centers_nu[index_to_choice[0]], cov_matrix, 1)\n",
    "    for i in range(1, BATCH_SIZE):\n",
    "        cur_data_nu = gaussian_data_sampling(centers_nu[index_to_choice[i]], cov_matrix, 1)\n",
    "        data_nu = torch.cat((data_nu, cur_data_nu), 0)\n",
    "        \n",
    "    return data_nu\n",
    "\n",
    "def gaussian_data_sampling_mu(center_mu, cov_matrix, BATCH_SIZE, random_state):\n",
    "    torch.manual_seed(random_state)\n",
    "    return gaussian_data_sampling(center_mu, cov_matrix, BATCH_SIZE)"
   ]
  },
  {
   "cell_type": "code",
   "execution_count": 4,
   "metadata": {},
   "outputs": [
    {
     "data": {
      "image/png": "[encoded data removed]",
      "text/plain": [
       "<Figure size 720x720 with 1 Axes>"
      ]
     },
     "metadata": {
      "needs_background": "light"
     },
     "output_type": "display_data"
    }
   ],
   "source": [
    "scale = 2.\n",
    "nu_centers = [\n",
    "            [1, 0],\n",
    "            [-1, 0],\n",
    "            [0, 1],\n",
    "            [0, -1],\n",
    "            [1./np.sqrt(2), 1./np.sqrt(2)],\n",
    "            [1./np.sqrt(2), -1./np.sqrt(2)],\n",
    "            [-1./np.sqrt(2), 1./np.sqrt(2)],\n",
    "            [-1./np.sqrt(2), -1./np.sqrt(2)]\n",
    "          ]\n",
    "gaussian_num = len(nu_centers)\n",
    "centers_nu_default = torch.Tensor([(scale*x,scale*y) for x,y in nu_centers])\n",
    "center_mu_default = torch.zeros(2)\n",
    "sigma = 0.02\n",
    "init_cov_matrix = torch.eye(2)\n",
    "cov_matrix_default = sigma*init_cov_matrix\n",
    "#data_nu = data_generation(centers_nu[0], cov_matrix, data_num)\n",
    "#data_num = 100\n",
    "#for i in range(1, gaussian_num):\n",
    "#    cur_data_nu = data_generation(centers_nu[i], cov_matrix, data_num)\n",
    "#    data_nu = torch.cat((data_nu, cur_data_nu), 0)\n",
    "data_nu = gaussian_data_sampling_nu(centers_nu_default, cov_matrix_default, BATCH_SIZE_default, my_random_state)\n",
    "\n",
    "#data_mu_num = BATCH_SIZE // centers_nu.shape[0]\n",
    "#data_mu = data_generation(center_mu, cov_matrix, data_mu_num)\n",
    "data_mu = gaussian_data_sampling_mu(center_mu_default, cov_matrix_default, BATCH_SIZE_default, my_random_state)\n",
    "plot_data_gaussians(data_mu.numpy(), data_nu.numpy())"
   ]
  },
  {
   "cell_type": "markdown",
   "metadata": {},
   "source": [
    "# Neural nets for dual variables $u, v$"
   ]
  },
  {
   "cell_type": "code",
   "execution_count": 11,
   "metadata": {},
   "outputs": [],
   "source": [
    "torch.manual_seed(my_random_state)\n",
    "D_in = 2\n",
    "D_out = 1\n",
    "H = 100\n",
    "u_net = torch.nn.Sequential(\n",
    "    torch.nn.Linear(D_in, H),\n",
    "    torch.nn.ReLU(),\n",
    "    torch.nn.Linear(H, D_out),\n",
    ")\n",
    "v_net = torch.nn.Sequential(\n",
    "    torch.nn.Linear(D_in, H),\n",
    "    torch.nn.ReLU(),\n",
    "    torch.nn.Linear(H, D_out),\n",
    ")"
   ]
  },
  {
   "cell_type": "markdown",
   "metadata": {},
   "source": [
    "# Loss, its estimation and grads"
   ]
  },
  {
   "cell_type": "code",
   "execution_count": 12,
   "metadata": {},
   "outputs": [],
   "source": [
    "def c_l2(x, y):\n",
    "    return torch.dist(x, y, 2)**2\n",
    "\n",
    "def F_eps(x, y, u_net_in_x, v_net_in_y, c = c_l2, eps=eps_default, mode=mode_default):\n",
    "    res = torch.zeros(1)\n",
    "    if mode == 'l2':\n",
    "        relu = nn.ReLU()\n",
    "        val = relu(u_net_in_x + v_net_in_y - c(x, y))\n",
    "        res = -(val**2)/(4*eps)\n",
    "    if mode == 'entropy':\n",
    "        val = (u_net_in_x + v_net_in_y - c(x, y))/eps\n",
    "        res = -eps*torch.exp(val)\n",
    "    return res\n",
    "\n",
    "def H_eps(x, y, u_net_in_x, v_net_in_y, c = c_l2, eps=eps_default, mode=mode_default):\n",
    "    res = torch.zeros(1)\n",
    "    if mode == 'l2':\n",
    "        relu = nn.ReLU()\n",
    "        val = relu(u_net_in_x + v_net_in_y - c(x, y))\n",
    "        res = val/(2*eps)\n",
    "    if mode == 'entropy':\n",
    "        val = (u_net_in_x + v_net_in_y - c(x, y))/eps\n",
    "        res = torch.exp(val)\n",
    "    return res\n",
    "\n",
    "def grad_F_eps(x, y, u_net_in_x, v_net_in_y, c = c_l2, eps=eps_default, mode=mode_default):\n",
    "    return -H_eps(x, y, u_net_in_x, v_net_in_y, c, eps, mode)\n",
    "\n",
    "def loss_estimation(u_net, v_net, data_mu, data_nu, c = c_l2, eps=eps_default, mode=mode_default):\n",
    "    num_estimators = data_mu.shape[0]\n",
    "    loss_estimators = []\n",
    "    for i in range(num_estimators):\n",
    "        u_net_in_x = u_net(data_mu[i])\n",
    "        v_net_in_y = v_net(data_nu[i])\n",
    "        cur_loss = u_net_in_x + v_net_in_y + F_eps(data_mu[i], data_nu[i], u_net_in_x, v_net_in_y) \n",
    "        loss_estimators.append(cur_loss)\n",
    "    loss_estimators = torch.Tensor(loss_estimators)\n",
    "    return torch.mean(loss_estimators)"
   ]
  },
  {
   "cell_type": "code",
   "execution_count": 13,
   "metadata": {},
   "outputs": [
    {
     "name": "stdout",
     "output_type": "stream",
     "text": [
      "Testing c_l2 function: c(tensor([0.2725, 0.2103]), tensor([ 0.1274, -0.2978])) = 0.2792266011238098\n",
      "Testing F_eps function, eps = 0.01:\n",
      "F([0.27250695 0.21033372], [ 0.12738064 -0.2977656 ], [-0.14760509], [-0.23110077]) = [-0.]\n",
      "Testing grad_F_eps function, eps = 0.01:\n",
      "grad_F_esp([0.27250695 0.21033372], [ 0.12738064 -0.2977656 ], [-0.14760509], [-0.23110077]) = [-0.]\n",
      "Testing loss_estimation function, eps = 0.01:\n",
      "loss = -0.2577318549156189\n"
     ]
    }
   ],
   "source": [
    "x = data_mu[0]\n",
    "y = data_mu[1]\n",
    "u_net_in_x = u_net(x)\n",
    "v_net_in_y = v_net(y)\n",
    "c_test = c_l2(x, y)\n",
    "print(f\"Testing c_l2 function: c({x}, {y}) = {c_test}\")\n",
    "F_eps_test = F_eps(x, y, u_net_in_x, v_net_in_y)\n",
    "grad_F_eps_test = grad_F_eps(x, y, u_net_in_x, v_net_in_y)\n",
    "x = x.detach().numpy()\n",
    "y = y.detach().numpy()\n",
    "u_net_in_x = u_net_in_x.detach().numpy()\n",
    "v_net_in_y = v_net_in_y.detach().numpy()\n",
    "F_eps_test = F_eps_test.detach().numpy()\n",
    "grad_F_eps_test = grad_F_eps_test.detach().numpy()\n",
    "\n",
    "print(f\"Testing F_eps function, eps = {eps_default}:\")\n",
    "print(f\"F({x}, {y}, {u_net_in_x}, {v_net_in_y}) = {F_eps_test}\")\n",
    "print(f\"Testing grad_F_eps function, eps = {eps_default}:\")\n",
    "print(f\"grad_F_esp({x}, {y}, {u_net_in_x}, {v_net_in_y}) = {grad_F_eps_test}\")\n",
    "\n",
    "data_nu = gaussian_data_sampling_nu(centers_nu_default, cov_matrix_default, BATCH_SIZE_default, my_random_state)\n",
    "data_mu = gaussian_data_sampling_mu(center_mu_default, cov_matrix_default, BATCH_SIZE_default, my_random_state)\n",
    "loss = loss_estimation(u_net, v_net, data_mu, data_nu)\n",
    "print(f\"Testing loss_estimation function, eps = {eps_default}:\")\n",
    "loss = loss.detach().numpy()\n",
    "print(f\"loss = {loss}\")"
   ]
  },
  {
   "cell_type": "markdown",
   "metadata": {},
   "source": [
    "# Training $u$ and $v$ nets using Algorithm 1"
   ]
  },
  {
   "cell_type": "code",
   "execution_count": 14,
   "metadata": {},
   "outputs": [],
   "source": [
    "data_sampling_nu_default = partial(gaussian_data_sampling_nu, \n",
    "                                   centers_nu = centers_nu_default, cov_matrix = cov_matrix_default)\n",
    "data_sampling_mu_default = partial(gaussian_data_sampling_mu, \n",
    "                                   center_mu = center_mu_default, cov_matrix = cov_matrix_default)"
   ]
  },
  {
   "cell_type": "code",
   "execution_count": 15,
   "metadata": {},
   "outputs": [],
   "source": [
    "def stochastic_OT_computation(num_steps, random_states_arr, u_net, v_net, \n",
    "                              data_sampling_nu = data_sampling_nu_default,\n",
    "                              data_sampling_mu = data_sampling_mu_default,\n",
    "                              BATCH_SIZE = BATCH_SIZE_default, lr = lr_default, \n",
    "                              eps = eps_default, c = c_l2, mode=mode_default):\n",
    "    loss_arr = []\n",
    "    for num_step in range(num_steps):\n",
    "        print(f\"num_step = {num_step}\")\n",
    "        data_nu = data_sampling_nu(BATCH_SIZE = BATCH_SIZE, random_state = random_states_arr[num_step])\n",
    "        data_mu = data_sampling_mu(BATCH_SIZE = BATCH_SIZE, random_state = random_states_arr[num_step])\n",
    "        \n",
    "        u_params_dict = {params_name: params for params_name, params in zip(u_net.state_dict(), \n",
    "                                                                         u_net.parameters())}\n",
    "        v_params_dict = {params_name: params for params_name, params in zip(v_net.state_dict(), \n",
    "                                                                         v_net.parameters())}\n",
    "        \n",
    "        #u_upd_grad_dict = {params_name: torch.zeros_like(params.grad) \n",
    "        #                   for params_name, params in zip(u_net.state_dict(), u_net.parameters())}\n",
    "        #v_upd_grad_dict = {params_name: torch.zeros_like(params.grad) \n",
    "        #                   for params_name, params in zip(v_net.state_dict(), v_net.parameters())}\n",
    "        u_upd_grad_dict = u_params_dict\n",
    "        v_upd_grad_dict = v_params_dict\n",
    "        \n",
    "        for i in range(BATCH_SIZE):\n",
    "            for j in range(BATCH_SIZE):\n",
    "                x = data_mu[i]\n",
    "                y = data_nu[j]\n",
    "\n",
    "                u_net.zero_grad()\n",
    "                u_net_in_x = u_net(x)\n",
    "                u_net_in_x.backward()\n",
    "\n",
    "                v_net.zero_grad()\n",
    "                v_net_in_y = v_net(y)\n",
    "                v_net_in_y.backward()\n",
    "\n",
    "                grad_F_eps_test = grad_F_eps(x, y, u_net_in_x, v_net_in_y, c = c, eps = eps, mode = mode)\n",
    "\n",
    "                u_grad_dict = {params_name: params.grad*(1 +  grad_F_eps_test)*lr\n",
    "                               for params_name, params in zip(u_net.state_dict(), u_net.parameters())}\n",
    "                v_grad_dict = {params_name: params.grad*(1 +  grad_F_eps_test)*lr \n",
    "                               for params_name, params in zip(v_net.state_dict(), v_net.parameters())}\n",
    "\n",
    "                for u_key in u_grad_dict.keys():\n",
    "                    u_upd_grad_dict[u_key] = u_upd_grad_dict[u_key] + u_grad_dict[u_key]\n",
    "                    \n",
    "                for v_key in v_grad_dict.keys():\n",
    "                    v_upd_grad_dict[v_key] = v_upd_grad_dict[v_key] + v_grad_dict[v_key]\n",
    "        \n",
    "        for params_name, params in u_net.state_dict().items():\n",
    "            u_net.state_dict()[params_name].data.copy_(u_upd_grad_dict[params_name])\n",
    "            \n",
    "        for params_name, params in v_net.state_dict().items():\n",
    "            v_net.state_dict()[params_name].data.copy_(v_upd_grad_dict[params_name])\n",
    "            \n",
    "        loss = loss_estimation(u_net, v_net, data_mu, data_nu, c = c, eps = eps, mode = mode)\n",
    "        print(f\"Loss estimation on sampled data = {loss.item()}\")\n",
    "        \n",
    "        loss_arr.append(loss.item())\n",
    "    \n",
    "    return loss_arr"
   ]
  },
  {
   "cell_type": "code",
   "execution_count": null,
   "metadata": {},
   "outputs": [
    {
     "name": "stdout",
     "output_type": "stream",
     "text": [
      "num_step = 0\n"
     ]
    }
   ],
   "source": [
    "num_steps = 50\n",
    "random_states_arr = range(num_steps)\n",
    "loss_history =  stochastic_OT_computation(num_steps, random_states_arr, u_net, v_net)"
   ]
  },
  {
   "cell_type": "code",
   "execution_count": 9,
   "metadata": {},
   "outputs": [
    {
     "name": "stdout",
     "output_type": "stream",
     "text": [
      "1\n",
      "2\n"
     ]
    }
   ],
   "source": [
    "z = {'a': 1, 'v': 2}\n",
    "for key in z.keys():\n",
    "    print(z[key])"
   ]
  },
  {
   "cell_type": "code",
   "execution_count": 104,
   "metadata": {},
   "outputs": [
    {
     "name": "stdout",
     "output_type": "stream",
     "text": [
      "torch.Size([100, 2]) torch.Size([100]) torch.Size([1, 100]) torch.Size([1])\n"
     ]
    }
   ],
   "source": [
    "params_generator = u_net.parameters()\n",
    "a = next(params_generator)\n",
    "b = next(params_generator)\n",
    "c = next(params_generator)\n",
    "d = next(params_generator)\n",
    "print(a.shape, b.shape, c.shape, d.shape)"
   ]
  },
  {
   "cell_type": "code",
   "execution_count": 128,
   "metadata": {},
   "outputs": [
    {
     "data": {
      "text/plain": [
       "tensor([[ 0.0000,  0.0000],\n",
       "        [-0.0040,  0.0051],\n",
       "        [-0.0035,  0.0045],\n",
       "        [ 0.0000,  0.0000],\n",
       "        [ 0.0104, -0.0134],\n",
       "        [ 0.0000,  0.0000],\n",
       "        [ 0.0000,  0.0000],\n",
       "        [ 0.0000,  0.0000],\n",
       "        [ 0.0000,  0.0000],\n",
       "        [ 0.0028, -0.0036],\n",
       "        [ 0.0083, -0.0107],\n",
       "        [-0.0019,  0.0025],\n",
       "        [ 0.0000,  0.0000],\n",
       "        [-0.0067,  0.0086],\n",
       "        [ 0.0000,  0.0000],\n",
       "        [-0.0095,  0.0122],\n",
       "        [ 0.0000,  0.0000],\n",
       "        [ 0.0000,  0.0000],\n",
       "        [ 0.0000,  0.0000],\n",
       "        [ 0.0000,  0.0000],\n",
       "        [ 0.0000,  0.0000],\n",
       "        [ 0.0000,  0.0000],\n",
       "        [ 0.0073, -0.0094],\n",
       "        [-0.0088,  0.0113],\n",
       "        [-0.0098,  0.0127],\n",
       "        [-0.0018,  0.0024],\n",
       "        [ 0.0000,  0.0000],\n",
       "        [ 0.0091, -0.0117],\n",
       "        [ 0.0000,  0.0000],\n",
       "        [-0.0096,  0.0123],\n",
       "        [-0.0005,  0.0007],\n",
       "        [ 0.0028, -0.0037],\n",
       "        [ 0.0000,  0.0000],\n",
       "        [ 0.0000,  0.0000],\n",
       "        [ 0.0000,  0.0000],\n",
       "        [ 0.0000,  0.0000],\n",
       "        [ 0.0000,  0.0000],\n",
       "        [ 0.0078, -0.0100],\n",
       "        [-0.0055,  0.0070],\n",
       "        [-0.0012,  0.0015],\n",
       "        [ 0.0000,  0.0000],\n",
       "        [-0.0094,  0.0121],\n",
       "        [-0.0072,  0.0092],\n",
       "        [ 0.0000,  0.0000],\n",
       "        [ 0.0000,  0.0000],\n",
       "        [ 0.0000,  0.0000],\n",
       "        [-0.0112,  0.0144],\n",
       "        [ 0.0000,  0.0000],\n",
       "        [ 0.0000,  0.0000],\n",
       "        [-0.0048,  0.0061],\n",
       "        [-0.0054,  0.0069],\n",
       "        [ 0.0000,  0.0000],\n",
       "        [ 0.0000,  0.0000],\n",
       "        [-0.0072,  0.0093],\n",
       "        [ 0.0000,  0.0000],\n",
       "        [ 0.0000,  0.0000],\n",
       "        [ 0.0000,  0.0000],\n",
       "        [ 0.0027, -0.0035],\n",
       "        [-0.0080,  0.0102],\n",
       "        [ 0.0019, -0.0024],\n",
       "        [ 0.0069, -0.0088],\n",
       "        [ 0.0002, -0.0002],\n",
       "        [ 0.0013, -0.0017],\n",
       "        [-0.0026,  0.0033],\n",
       "        [ 0.0087, -0.0112],\n",
       "        [ 0.0096, -0.0123],\n",
       "        [ 0.0000,  0.0000],\n",
       "        [-0.0102,  0.0131],\n",
       "        [ 0.0071, -0.0092],\n",
       "        [ 0.0000,  0.0000],\n",
       "        [-0.0011,  0.0014],\n",
       "        [ 0.0000,  0.0000],\n",
       "        [-0.0086,  0.0111],\n",
       "        [ 0.0000,  0.0000],\n",
       "        [ 0.0000,  0.0000],\n",
       "        [ 0.0000,  0.0000],\n",
       "        [-0.0110,  0.0142],\n",
       "        [-0.0069,  0.0088],\n",
       "        [-0.0029,  0.0037],\n",
       "        [ 0.0110, -0.0141],\n",
       "        [ 0.0000,  0.0000],\n",
       "        [ 0.0064, -0.0082],\n",
       "        [-0.0005,  0.0006],\n",
       "        [ 0.0000,  0.0000],\n",
       "        [ 0.0000,  0.0000],\n",
       "        [ 0.0000,  0.0000],\n",
       "        [ 0.0000,  0.0000],\n",
       "        [ 0.0000,  0.0000],\n",
       "        [-0.0011,  0.0014],\n",
       "        [ 0.0071, -0.0091],\n",
       "        [ 0.0000,  0.0000],\n",
       "        [ 0.0000,  0.0000],\n",
       "        [ 0.0060, -0.0078],\n",
       "        [ 0.0101, -0.0130],\n",
       "        [ 0.0000,  0.0000],\n",
       "        [ 0.0080, -0.0103],\n",
       "        [ 0.0000,  0.0000],\n",
       "        [ 0.0091, -0.0117],\n",
       "        [ 0.0000,  0.0000],\n",
       "        [ 0.0070, -0.0089]])"
      ]
     },
     "execution_count": 128,
     "metadata": {},
     "output_type": "execute_result"
    }
   ],
   "source": [
    "a.grad"
   ]
  },
  {
   "cell_type": "code",
   "execution_count": 123,
   "metadata": {},
   "outputs": [],
   "source": [
    "x = data_mu[0]\n",
    "u_net.zero_grad()\n",
    "s = u_net(x)\n",
    "s.backward()"
   ]
  },
  {
   "cell_type": "code",
   "execution_count": 126,
   "metadata": {},
   "outputs": [
    {
     "name": "stdout",
     "output_type": "stream",
     "text": [
      "None\n"
     ]
    }
   ],
   "source": [
    "print(x.grad)"
   ]
  },
  {
   "cell_type": "code",
   "execution_count": 114,
   "metadata": {},
   "outputs": [
    {
     "data": {
      "text/plain": [
       "<AddBackward0 at 0x7f28016e77f0>"
      ]
     },
     "execution_count": 114,
     "metadata": {},
     "output_type": "execute_result"
    }
   ],
   "source": [
    "for param in u_net.parameters():"
   ]
  },
  {
   "cell_type": "code",
   "execution_count": 130,
   "metadata": {},
   "outputs": [],
   "source": [
    "u_net.zero_grad()"
   ]
  },
  {
   "cell_type": "code",
   "execution_count": 131,
   "metadata": {},
   "outputs": [
    {
     "name": "stdout",
     "output_type": "stream",
     "text": [
      "tensor([[0., 0.],\n",
      "        [0., 0.],\n",
      "        [0., 0.],\n",
      "        [0., 0.],\n",
      "        [0., 0.],\n",
      "        [0., 0.],\n",
      "        [0., 0.],\n",
      "        [0., 0.],\n",
      "        [0., 0.],\n",
      "        [0., 0.],\n",
      "        [0., 0.],\n",
      "        [0., 0.],\n",
      "        [0., 0.],\n",
      "        [0., 0.],\n",
      "        [0., 0.],\n",
      "        [0., 0.],\n",
      "        [0., 0.],\n",
      "        [0., 0.],\n",
      "        [0., 0.],\n",
      "        [0., 0.],\n",
      "        [0., 0.],\n",
      "        [0., 0.],\n",
      "        [0., 0.],\n",
      "        [0., 0.],\n",
      "        [0., 0.],\n",
      "        [0., 0.],\n",
      "        [0., 0.],\n",
      "        [0., 0.],\n",
      "        [0., 0.],\n",
      "        [0., 0.],\n",
      "        [0., 0.],\n",
      "        [0., 0.],\n",
      "        [0., 0.],\n",
      "        [0., 0.],\n",
      "        [0., 0.],\n",
      "        [0., 0.],\n",
      "        [0., 0.],\n",
      "        [0., 0.],\n",
      "        [0., 0.],\n",
      "        [0., 0.],\n",
      "        [0., 0.],\n",
      "        [0., 0.],\n",
      "        [0., 0.],\n",
      "        [0., 0.],\n",
      "        [0., 0.],\n",
      "        [0., 0.],\n",
      "        [0., 0.],\n",
      "        [0., 0.],\n",
      "        [0., 0.],\n",
      "        [0., 0.],\n",
      "        [0., 0.],\n",
      "        [0., 0.],\n",
      "        [0., 0.],\n",
      "        [0., 0.],\n",
      "        [0., 0.],\n",
      "        [0., 0.],\n",
      "        [0., 0.],\n",
      "        [0., 0.],\n",
      "        [0., 0.],\n",
      "        [0., 0.],\n",
      "        [0., 0.],\n",
      "        [0., 0.],\n",
      "        [0., 0.],\n",
      "        [0., 0.],\n",
      "        [0., 0.],\n",
      "        [0., 0.],\n",
      "        [0., 0.],\n",
      "        [0., 0.],\n",
      "        [0., 0.],\n",
      "        [0., 0.],\n",
      "        [0., 0.],\n",
      "        [0., 0.],\n",
      "        [0., 0.],\n",
      "        [0., 0.],\n",
      "        [0., 0.],\n",
      "        [0., 0.],\n",
      "        [0., 0.],\n",
      "        [0., 0.],\n",
      "        [0., 0.],\n",
      "        [0., 0.],\n",
      "        [0., 0.],\n",
      "        [0., 0.],\n",
      "        [0., 0.],\n",
      "        [0., 0.],\n",
      "        [0., 0.],\n",
      "        [0., 0.],\n",
      "        [0., 0.],\n",
      "        [0., 0.],\n",
      "        [0., 0.],\n",
      "        [0., 0.],\n",
      "        [0., 0.],\n",
      "        [0., 0.],\n",
      "        [0., 0.],\n",
      "        [0., 0.],\n",
      "        [0., 0.],\n",
      "        [0., 0.],\n",
      "        [0., 0.],\n",
      "        [0., 0.],\n",
      "        [0., 0.],\n",
      "        [0., 0.]])\n"
     ]
    }
   ],
   "source": [
    "params_generator = u_net.parameters()\n",
    "a = next(params_generator)\n",
    "print(a.grad)"
   ]
  },
  {
   "cell_type": "code",
   "execution_count": 132,
   "metadata": {},
   "outputs": [],
   "source": [
    "x = data_mu[0]\n",
    "u_net.zero_grad()\n",
    "s = u_net(x)\n",
    "s.backward()"
   ]
  },
  {
   "cell_type": "code",
   "execution_count": 148,
   "metadata": {},
   "outputs": [
    {
     "data": {
      "text/plain": [
       "tensor([[0., 0.],\n",
       "        [0., 0.],\n",
       "        [0., 0.],\n",
       "        [0., 0.],\n",
       "        [0., 0.],\n",
       "        [0., 0.],\n",
       "        [0., 0.],\n",
       "        [0., 0.],\n",
       "        [0., 0.],\n",
       "        [0., 0.],\n",
       "        [0., 0.],\n",
       "        [0., 0.],\n",
       "        [0., 0.],\n",
       "        [0., 0.],\n",
       "        [0., 0.],\n",
       "        [0., 0.],\n",
       "        [0., 0.],\n",
       "        [0., 0.],\n",
       "        [0., 0.],\n",
       "        [0., 0.],\n",
       "        [0., 0.],\n",
       "        [0., 0.],\n",
       "        [0., 0.],\n",
       "        [0., 0.],\n",
       "        [0., 0.],\n",
       "        [0., 0.],\n",
       "        [0., 0.],\n",
       "        [0., 0.],\n",
       "        [0., 0.],\n",
       "        [0., 0.],\n",
       "        [0., 0.],\n",
       "        [0., 0.],\n",
       "        [0., 0.],\n",
       "        [0., 0.],\n",
       "        [0., 0.],\n",
       "        [0., 0.],\n",
       "        [0., 0.],\n",
       "        [0., 0.],\n",
       "        [0., 0.],\n",
       "        [0., 0.],\n",
       "        [0., 0.],\n",
       "        [0., 0.],\n",
       "        [0., 0.],\n",
       "        [0., 0.],\n",
       "        [0., 0.],\n",
       "        [0., 0.],\n",
       "        [0., 0.],\n",
       "        [0., 0.],\n",
       "        [0., 0.],\n",
       "        [0., 0.],\n",
       "        [0., 0.],\n",
       "        [0., 0.],\n",
       "        [0., 0.],\n",
       "        [0., 0.],\n",
       "        [0., 0.],\n",
       "        [0., 0.],\n",
       "        [0., 0.],\n",
       "        [0., 0.],\n",
       "        [0., 0.],\n",
       "        [0., 0.],\n",
       "        [0., 0.],\n",
       "        [0., 0.],\n",
       "        [0., 0.],\n",
       "        [0., 0.],\n",
       "        [0., 0.],\n",
       "        [0., 0.],\n",
       "        [0., 0.],\n",
       "        [0., 0.],\n",
       "        [0., 0.],\n",
       "        [0., 0.],\n",
       "        [0., 0.],\n",
       "        [0., 0.],\n",
       "        [0., 0.],\n",
       "        [0., 0.],\n",
       "        [0., 0.],\n",
       "        [0., 0.],\n",
       "        [0., 0.],\n",
       "        [0., 0.],\n",
       "        [0., 0.],\n",
       "        [0., 0.],\n",
       "        [0., 0.],\n",
       "        [0., 0.],\n",
       "        [0., 0.],\n",
       "        [0., 0.],\n",
       "        [0., 0.],\n",
       "        [0., 0.],\n",
       "        [0., 0.],\n",
       "        [0., 0.],\n",
       "        [0., 0.],\n",
       "        [0., 0.],\n",
       "        [0., 0.],\n",
       "        [0., 0.],\n",
       "        [0., 0.],\n",
       "        [0., 0.],\n",
       "        [0., 0.],\n",
       "        [0., 0.],\n",
       "        [0., 0.],\n",
       "        [0., 0.],\n",
       "        [0., 0.],\n",
       "        [0., 0.]])"
      ]
     },
     "execution_count": 148,
     "metadata": {},
     "output_type": "execute_result"
    }
   ],
   "source": [
    "u_net.state_dict()['0.weight'].data.copy_(torch.zeros_like(u_net.state_dict()['0.weight']))"
   ]
  },
  {
   "cell_type": "code",
   "execution_count": 152,
   "metadata": {},
   "outputs": [
    {
     "name": "stdout",
     "output_type": "stream",
     "text": [
      "0.weight\n",
      "0.bias\n",
      "2.weight\n",
      "2.bias\n"
     ]
    }
   ],
   "source": [
    "for layer_name, weights in u_net.state_dict().items():\n",
    "    print(layer_name)"
   ]
  },
  {
   "cell_type": "code",
   "execution_count": 176,
   "metadata": {},
   "outputs": [],
   "source": [
    "x = data_mu[0]\n",
    "u_net.zero_grad()\n",
    "s = u_net(x)\n",
    "s.backward()"
   ]
  },
  {
   "cell_type": "code",
   "execution_count": 167,
   "metadata": {},
   "outputs": [],
   "source": [
    "a = u_net.state_dict()['0.bias']"
   ]
  },
  {
   "cell_type": "code",
   "execution_count": 168,
   "metadata": {},
   "outputs": [
    {
     "name": "stdout",
     "output_type": "stream",
     "text": [
      "tensor([-0.4969,  0.1448,  0.5181, -0.1398,  0.4304, -0.1503, -0.3365, -0.6471,\n",
      "        -0.4738,  0.5308,  0.4763,  0.6823, -0.0713,  0.2390, -0.0868,  0.6999,\n",
      "        -0.5638, -0.1920, -0.6780,  0.0698, -0.5505, -0.4959,  0.1635,  0.7035,\n",
      "         0.5894,  0.4858, -0.1750, -0.0213, -0.6357,  0.4753,  0.1932,  0.6002,\n",
      "        -0.6874, -0.1724, -0.4554, -0.5411, -0.4204,  0.2234,  0.4701,  0.3193,\n",
      "        -0.2422,  0.3119,  0.6965,  0.0346, -0.2545, -0.5584,  0.4999, -0.1616,\n",
      "        -0.5548,  0.4089,  0.1410, -0.2854, -0.6960,  0.0887, -0.2094, -0.1226,\n",
      "        -0.2359,  0.5816,  0.3753,  0.5606,  0.2670,  0.2018,  0.6979, -0.0025,\n",
      "         0.4065,  0.2875, -0.6767,  0.4804, -0.0693, -0.4775,  0.4765, -0.5727,\n",
      "         0.3315, -0.5817, -0.2028, -0.6634,  0.5057,  0.1748,  0.5770,  0.2158,\n",
      "        -0.3506,  0.1063,  0.4785, -0.5467, -0.4717, -0.1799, -0.4418, -0.1285,\n",
      "         0.6696,  0.3932, -0.5733, -0.3816,  0.5675, -0.0542, -0.2977,  0.1382,\n",
      "        -0.1123,  0.2382,  0.0130,  0.4021])\n"
     ]
    }
   ],
   "source": [
    "print(a)"
   ]
  },
  {
   "cell_type": "code",
   "execution_count": 177,
   "metadata": {},
   "outputs": [],
   "source": [
    "grad_dict = {k:v.grad for k, v in zip(u_net.state_dict(), u_net.parameters())}"
   ]
  },
  {
   "cell_type": "code",
   "execution_count": 178,
   "metadata": {},
   "outputs": [
    {
     "data": {
      "text/plain": [
       "{'0.weight': tensor([[ 0.0000e+00,  0.0000e+00],\n",
       "         [-3.9610e-03,  5.0946e-03],\n",
       "         [-3.4947e-03,  4.4949e-03],\n",
       "         [ 0.0000e+00,  0.0000e+00],\n",
       "         [ 1.0442e-02, -1.3430e-02],\n",
       "         [ 0.0000e+00,  0.0000e+00],\n",
       "         [ 0.0000e+00,  0.0000e+00],\n",
       "         [ 0.0000e+00,  0.0000e+00],\n",
       "         [ 0.0000e+00,  0.0000e+00],\n",
       "         [ 2.8194e-03, -3.6262e-03],\n",
       "         [ 8.3434e-03, -1.0731e-02],\n",
       "         [-1.9076e-03,  2.4535e-03],\n",
       "         [ 0.0000e+00,  0.0000e+00],\n",
       "         [-6.7028e-03,  8.6210e-03],\n",
       "         [ 0.0000e+00,  0.0000e+00],\n",
       "         [-9.4930e-03,  1.2210e-02],\n",
       "         [ 0.0000e+00,  0.0000e+00],\n",
       "         [ 0.0000e+00,  0.0000e+00],\n",
       "         [ 0.0000e+00,  0.0000e+00],\n",
       "         [-2.0510e-03,  2.6380e-03],\n",
       "         [ 0.0000e+00,  0.0000e+00],\n",
       "         [ 0.0000e+00,  0.0000e+00],\n",
       "         [ 7.3432e-03, -9.4448e-03],\n",
       "         [-8.8005e-03,  1.1319e-02],\n",
       "         [-9.8407e-03,  1.2657e-02],\n",
       "         [-1.8426e-03,  2.3699e-03],\n",
       "         [ 0.0000e+00,  0.0000e+00],\n",
       "         [ 0.0000e+00,  0.0000e+00],\n",
       "         [ 0.0000e+00,  0.0000e+00],\n",
       "         [-9.5870e-03,  1.2331e-02],\n",
       "         [-5.2154e-04,  6.7079e-04],\n",
       "         [ 2.8399e-03, -3.6526e-03],\n",
       "         [ 0.0000e+00,  0.0000e+00],\n",
       "         [ 0.0000e+00,  0.0000e+00],\n",
       "         [ 0.0000e+00,  0.0000e+00],\n",
       "         [ 0.0000e+00,  0.0000e+00],\n",
       "         [ 0.0000e+00,  0.0000e+00],\n",
       "         [ 7.8074e-03, -1.0042e-02],\n",
       "         [-5.4600e-03,  7.0226e-03],\n",
       "         [-1.1727e-03,  1.5083e-03],\n",
       "         [ 0.0000e+00,  0.0000e+00],\n",
       "         [-9.3844e-03,  1.2070e-02],\n",
       "         [-7.1750e-03,  9.2284e-03],\n",
       "         [-8.8440e-05,  1.1375e-04],\n",
       "         [ 0.0000e+00,  0.0000e+00],\n",
       "         [ 0.0000e+00,  0.0000e+00],\n",
       "         [-1.1201e-02,  1.4406e-02],\n",
       "         [ 0.0000e+00,  0.0000e+00],\n",
       "         [ 0.0000e+00,  0.0000e+00],\n",
       "         [-4.7696e-03,  6.1346e-03],\n",
       "         [-5.3843e-03,  6.9252e-03],\n",
       "         [ 0.0000e+00,  0.0000e+00],\n",
       "         [ 0.0000e+00,  0.0000e+00],\n",
       "         [-7.2154e-03,  9.2803e-03],\n",
       "         [ 0.0000e+00,  0.0000e+00],\n",
       "         [ 0.0000e+00,  0.0000e+00],\n",
       "         [ 0.0000e+00,  0.0000e+00],\n",
       "         [ 2.7079e-03, -3.4828e-03],\n",
       "         [-7.9656e-03,  1.0245e-02],\n",
       "         [ 1.8746e-03, -2.4111e-03],\n",
       "         [ 6.8732e-03, -8.8402e-03],\n",
       "         [ 1.9090e-04, -2.4553e-04],\n",
       "         [ 1.3008e-03, -1.6730e-03],\n",
       "         [ 0.0000e+00,  0.0000e+00],\n",
       "         [ 8.7043e-03, -1.1195e-02],\n",
       "         [ 9.5525e-03, -1.2286e-02],\n",
       "         [ 0.0000e+00,  0.0000e+00],\n",
       "         [-1.0183e-02,  1.3098e-02],\n",
       "         [ 0.0000e+00,  0.0000e+00],\n",
       "         [ 0.0000e+00,  0.0000e+00],\n",
       "         [-1.0768e-03,  1.3849e-03],\n",
       "         [ 0.0000e+00,  0.0000e+00],\n",
       "         [-8.6464e-03,  1.1121e-02],\n",
       "         [ 0.0000e+00,  0.0000e+00],\n",
       "         [ 0.0000e+00,  0.0000e+00],\n",
       "         [ 0.0000e+00,  0.0000e+00],\n",
       "         [-1.1019e-02,  1.4173e-02],\n",
       "         [-6.8545e-03,  8.8162e-03],\n",
       "         [-2.8847e-03,  3.7102e-03],\n",
       "         [ 1.0960e-02, -1.4097e-02],\n",
       "         [ 0.0000e+00,  0.0000e+00],\n",
       "         [ 6.3570e-03, -8.1762e-03],\n",
       "         [-4.6955e-04,  6.0392e-04],\n",
       "         [ 0.0000e+00,  0.0000e+00],\n",
       "         [ 0.0000e+00,  0.0000e+00],\n",
       "         [ 0.0000e+00,  0.0000e+00],\n",
       "         [ 0.0000e+00,  0.0000e+00],\n",
       "         [ 0.0000e+00,  0.0000e+00],\n",
       "         [-1.0991e-03,  1.4136e-03],\n",
       "         [ 7.0508e-03, -9.0686e-03],\n",
       "         [ 0.0000e+00,  0.0000e+00],\n",
       "         [ 0.0000e+00,  0.0000e+00],\n",
       "         [ 6.0385e-03, -7.7666e-03],\n",
       "         [ 0.0000e+00,  0.0000e+00],\n",
       "         [ 0.0000e+00,  0.0000e+00],\n",
       "         [ 8.0126e-03, -1.0306e-02],\n",
       "         [ 0.0000e+00,  0.0000e+00],\n",
       "         [ 9.1294e-03, -1.1742e-02],\n",
       "         [ 7.7783e-03, -1.0004e-02],\n",
       "         [ 6.9521e-03, -8.9417e-03]]),\n",
       " '0.bias': tensor([ 0.0000,  0.0351,  0.0310,  0.0000, -0.0926,  0.0000,  0.0000,  0.0000,\n",
       "          0.0000, -0.0250, -0.0740,  0.0169,  0.0000,  0.0594,  0.0000,  0.0841,\n",
       "          0.0000,  0.0000,  0.0000,  0.0182,  0.0000,  0.0000, -0.0651,  0.0780,\n",
       "          0.0872,  0.0163,  0.0000,  0.0000,  0.0000,  0.0850,  0.0046, -0.0252,\n",
       "          0.0000,  0.0000,  0.0000,  0.0000,  0.0000, -0.0692,  0.0484,  0.0104,\n",
       "          0.0000,  0.0832,  0.0636,  0.0008,  0.0000,  0.0000,  0.0993,  0.0000,\n",
       "          0.0000,  0.0423,  0.0477,  0.0000,  0.0000,  0.0640,  0.0000,  0.0000,\n",
       "          0.0000, -0.0240,  0.0706, -0.0166, -0.0609, -0.0017, -0.0115,  0.0000,\n",
       "         -0.0772, -0.0847,  0.0000,  0.0903,  0.0000,  0.0000,  0.0095,  0.0000,\n",
       "          0.0766,  0.0000,  0.0000,  0.0000,  0.0977,  0.0608,  0.0256, -0.0971,\n",
       "          0.0000, -0.0563,  0.0042,  0.0000,  0.0000,  0.0000,  0.0000,  0.0000,\n",
       "          0.0097, -0.0625,  0.0000,  0.0000, -0.0535,  0.0000,  0.0000, -0.0710,\n",
       "          0.0000, -0.0809, -0.0689, -0.0616]),\n",
       " '2.weight': tensor([[0.0000, 0.1448, 0.5181, 0.0000, 0.4304, 0.0000, 0.0000, 0.0000, 0.0000,\n",
       "          0.5308, 0.4763, 0.6823, 0.0000, 0.2390, 0.0000, 0.6999, 0.0000, 0.0000,\n",
       "          0.0000, 0.0698, 0.0000, 0.0000, 0.1635, 0.7035, 0.5894, 0.4858, 0.0000,\n",
       "          0.0000, 0.0000, 0.4753, 0.1932, 0.6002, 0.0000, 0.0000, 0.0000, 0.0000,\n",
       "          0.0000, 0.2234, 0.4701, 0.3193, 0.0000, 0.3119, 0.6965, 0.0346, 0.0000,\n",
       "          0.0000, 0.4999, 0.0000, 0.0000, 0.4089, 0.1410, 0.0000, 0.0000, 0.0887,\n",
       "          0.0000, 0.0000, 0.0000, 0.5816, 0.3753, 0.5606, 0.2670, 0.2018, 0.6979,\n",
       "          0.0000, 0.4065, 0.2875, 0.0000, 0.4804, 0.0000, 0.0000, 0.4765, 0.0000,\n",
       "          0.3315, 0.0000, 0.0000, 0.0000, 0.5057, 0.1748, 0.5770, 0.2158, 0.0000,\n",
       "          0.1063, 0.4785, 0.0000, 0.0000, 0.0000, 0.0000, 0.0000, 0.6696, 0.3932,\n",
       "          0.0000, 0.0000, 0.5675, 0.0000, 0.0000, 0.1382, 0.0000, 0.2382, 0.0130,\n",
       "          0.4021]]),\n",
       " '2.bias': tensor([1.])}"
      ]
     },
     "execution_count": 178,
     "metadata": {},
     "output_type": "execute_result"
    }
   ],
   "source": [
    "grad_dict"
   ]
  },
  {
   "cell_type": "code",
   "execution_count": 173,
   "metadata": {},
   "outputs": [],
   "source": [
    "u_net.zero_grad()"
   ]
  },
  {
   "cell_type": "code",
   "execution_count": null,
   "metadata": {},
   "outputs": [],
   "source": []
  }
 ],
 "metadata": {
  "kernelspec": {
   "display_name": "Python 3",
   "language": "python",
   "name": "python3"
  },
  "language_info": {
   "codemirror_mode": {
    "name": "ipython",
    "version": 3
   },
   "file_extension": ".py",
   "mimetype": "text/x-python",
   "name": "python",
   "nbconvert_exporter": "python",
   "pygments_lexer": "ipython3",
   "version": "3.7.3"
  }
 },
 "nbformat": 4,
 "nbformat_minor": 4
}

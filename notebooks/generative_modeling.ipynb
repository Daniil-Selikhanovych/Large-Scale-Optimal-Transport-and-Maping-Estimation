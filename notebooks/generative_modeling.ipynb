{
 "cells": [
  {
   "cell_type": "markdown",
   "metadata": {},
   "source": [
    "# Import dependencies\n",
    "First, you may need to install \n",
    "* NumPy - `pip install numpy`,\n",
    "* Matplotlib - `pip install matplotlib`,\n",
    "* PyTorch - `pip install torch torchvision`.\n",
    "\n",
    "Then you should be able to import all required dependencies."
   ]
  },
  {
   "cell_type": "code",
   "execution_count": null,
   "metadata": {},
   "outputs": [],
   "source": [
    "import sys\n",
    "import numpy as np\n",
    "import matplotlib.pyplot as plt\n",
    "plt.set_cmap(\"Greys\")\n",
    "\n",
    "import torch\n",
    "import torch.nn as nn\n",
    "import torch.nn.functional as F\n",
    "from torchvision import datasets, transforms\n",
    "from torch.utils.data import ConcatDataset\n",
    "from torch.optim import Adam\n",
    "from torch.optim.lr_scheduler import MultiStepLR, ExponentialLR\n",
    "from torch.distributions import MultivariateNormal"
   ]
  },
  {
   "cell_type": "markdown",
   "metadata": {},
   "source": [
    "Add parent directory to path to access sibling modules"
   ]
  },
  {
   "cell_type": "code",
   "execution_count": null,
   "metadata": {},
   "outputs": [],
   "source": [
    "if '..' not in sys.path:\n",
    "    sys.path.append('..')"
   ]
  },
  {
   "cell_type": "code",
   "execution_count": null,
   "metadata": {},
   "outputs": [],
   "source": [
    "%load_ext autoreload\n",
    "%autoreload 1\n",
    "\n",
    "%aimport neural_ot.data_loading, neural_ot.model, neural_ot.train\n",
    "from neural_ot.data_loading import ZipLoader, get_mean_covariance, CustomGaussian, DistributionDataset\n",
    "from neural_ot.model import NeuralOT, Unflatten, Vector\n",
    "from neural_ot.train import train\n",
    "\n",
    "_ = torch.manual_seed(42)"
   ]
  },
  {
   "cell_type": "markdown",
   "metadata": {},
   "source": [
    "# Global variables\n",
    "First, we set `DEVICE` and `IS_CUDA` global variables."
   ]
  },
  {
   "cell_type": "code",
   "execution_count": null,
   "metadata": {},
   "outputs": [],
   "source": [
    "if torch.cuda.is_available():\n",
    "    DEVICE = torch.device('cuda')\n",
    "    IS_CUDA = True\n",
    "else:\n",
    "    DEVICE = torch.device('cpu')\n",
    "    IS_CUDA = False"
   ]
  },
  {
   "cell_type": "markdown",
   "metadata": {},
   "source": [
    "Second, we download MNIST dataset using `torchvision.datasets`. We normalize intensities from the default interval $[0, 1]$ to the interval $[-1, 1]$ via linear transformation $I' = (I - 0.5) / 0.5$ (as it was done in the original paper). Also for the generative modeling task we concatenate train and test sets to the single dataset, held in global variable `MNIST`."
   ]
  },
  {
   "cell_type": "code",
   "execution_count": null,
   "metadata": {},
   "outputs": [],
   "source": [
    "transform = transforms.Compose([\n",
    "    transforms.ToTensor(), \n",
    "    transforms.Normalize([.5], [.5]),\n",
    "])\n",
    "\n",
    "mnist_train = datasets.MNIST('data/mnist', download=True, transform=transform, train=True)\n",
    "mnist_test = datasets.MNIST('data/mnist', download=True, transform=transform, train=False)\n",
    "MNIST = ConcatDataset([mnist_train, mnist_test])"
   ]
  },
  {
   "cell_type": "code",
   "execution_count": null,
   "metadata": {},
   "outputs": [],
   "source": [
    "BATCH_SIZE = 300\n",
    "N_BATCHES_PER_EPOCH = 10\n",
    "N_WORKERS = 4"
   ]
  },
  {
   "cell_type": "code",
   "execution_count": null,
   "metadata": {},
   "outputs": [],
   "source": [
    "MNIST_MEAN, MNIST_COV = get_mean_covariance(MNIST)"
   ]
  },
  {
   "cell_type": "code",
   "execution_count": null,
   "metadata": {},
   "outputs": [],
   "source": [
    "gauss = CustomGaussian(MNIST_MEAN, MNIST_COV)\n",
    "gauss_dset = DistributionDataset(gauss, transform=lambda x: x.reshape(1, 28, 28))\n",
    "\n",
    "batch_generator = ZipLoader(gauss_dset, MNIST, batch_size=BATCH_SIZE, n_batches=N_BATCHES_PER_EPOCH, \n",
    "                          pin_memory=IS_CUDA, return_idx=True, num_workers=N_WORKERS)"
   ]
  },
  {
   "cell_type": "code",
   "execution_count": null,
   "metadata": {},
   "outputs": [],
   "source": [
    "for (x_idx, x), (y_idx, y) in batch_generator:\n",
    "    print(x_idx.shape, x.shape, y_idx.shape, y.shape)\n",
    "    break"
   ]
  },
  {
   "cell_type": "code",
   "execution_count": null,
   "metadata": {},
   "outputs": [],
   "source": [
    "plt.imshow(y[0, 0].numpy())"
   ]
  },
  {
   "cell_type": "code",
   "execution_count": null,
   "metadata": {},
   "outputs": [],
   "source": [
    "source_dual_net = nn.Sequential(\n",
    "    nn.Flatten(),\n",
    "    nn.Linear(28 * 28, 1024),\n",
    "    nn.ReLU(),\n",
    "    nn.BatchNorm1d(1024),\n",
    "    nn.Linear(1024, 1024),\n",
    "    nn.ReLU(),\n",
    "    nn.BatchNorm1d(1024),\n",
    "    nn.Linear(1024, 1),\n",
    "    nn.Flatten(start_dim=0)\n",
    ")\n",
    "\n",
    "target_dual_net = nn.Sequential(\n",
    "    nn.Flatten(),\n",
    "    nn.Linear(28 * 28, 1024),\n",
    "    nn.ReLU(),\n",
    "    nn.BatchNorm1d(1024),\n",
    "    nn.Linear(1024, 1024),\n",
    "    nn.ReLU(),\n",
    "    nn.BatchNorm1d(1024),\n",
    "    nn.Linear(1024, 1),\n",
    "    nn.Flatten(start_dim=0)\n",
    ")\n",
    "\n",
    "# target_dual_net = Vector(initial=1e-2 * torch.randn(len(mnist)))\n",
    "\n",
    "source_to_target_net = nn.Sequential(\n",
    "    nn.Flatten(),\n",
    "    nn.Linear(28 * 28, 1024),\n",
    "    nn.ReLU(),\n",
    "    nn.BatchNorm1d(1024),\n",
    "    nn.Linear(1024, 1024),\n",
    "    nn.ReLU(),\n",
    "    nn.BatchNorm1d(1024),\n",
    "    nn.Linear(1024, 28 * 28),\n",
    "    Unflatten(28, 28),\n",
    "    nn.Tanh()\n",
    ")"
   ]
  },
  {
   "cell_type": "code",
   "execution_count": null,
   "metadata": {},
   "outputs": [],
   "source": [
    "# ot = torch.load('generative_model.pth')\n",
    "ot = NeuralOT(source_dual_net, target_dual_net, source_to_target_net, \n",
    "              regularization_mode='l2', regularization_parameter=0.05, \n",
    "              from_discrete=False, to_discrete=False).to(DEVICE)"
   ]
  },
  {
   "cell_type": "code",
   "execution_count": null,
   "metadata": {},
   "outputs": [],
   "source": [
    "plan_optimizer = Adam(ot.parameters(), lr=1e-3)\n",
    "plan_scheduler = MultiStepLR(plan_optimizer, [20, 75])"
   ]
  },
  {
   "cell_type": "code",
   "execution_count": null,
   "metadata": {
    "scrolled": true
   },
   "outputs": [],
   "source": [
    "losses = train(ot.plan_criterion, plan_optimizer, batch_generator, n_epochs=300, device=DEVICE, \n",
    "               scheduler=plan_scheduler)"
   ]
  },
  {
   "cell_type": "code",
   "execution_count": null,
   "metadata": {},
   "outputs": [],
   "source": [
    "plt.plot(losses)"
   ]
  },
  {
   "cell_type": "code",
   "execution_count": null,
   "metadata": {},
   "outputs": [],
   "source": [
    "mapping_optimizer = Adam(ot.parameters(), lr=1e-4)\n",
    "mapping_scheduler = None # MultiStepLR(plan_optimizer, [10])"
   ]
  },
  {
   "cell_type": "code",
   "execution_count": null,
   "metadata": {},
   "outputs": [],
   "source": [
    "mapping_losses = train(ot.mapping_criterion, mapping_optimizer, batch_generator, n_epochs=300, device=DEVICE, \n",
    "                       scheduler=mapping_scheduler)"
   ]
  },
  {
   "cell_type": "code",
   "execution_count": null,
   "metadata": {},
   "outputs": [],
   "source": [
    "plt.plot(mapping_losses)"
   ]
  },
  {
   "cell_type": "code",
   "execution_count": null,
   "metadata": {},
   "outputs": [],
   "source": [
    "tmp_loader = ZipLoader(gauss_dset, batch_size=100, n_batches=1, \n",
    "                       pin_memory=IS_CUDA, return_idx=False, num_workers=N_WORKERS)\n",
    "for x in tmp_loader:\n",
    "    x = x[0]\n",
    "    x = x.to(DEVICE)\n",
    "    mapped = ot.map(x)\n",
    "imgs = mapped[:, 0].detach().cpu().numpy()"
   ]
  },
  {
   "cell_type": "code",
   "execution_count": null,
   "metadata": {},
   "outputs": [],
   "source": [
    "fig, axes = plt.subplots(nrows=10, ncols=10, figsize=(15, 15))\n",
    "for i, img in enumerate(imgs):\n",
    "    ax = axes[i // 10, i % 10]\n",
    "    ax.imshow(img)\n",
    "    ax.axis('off')\n",
    "fig.savefig(\"generated.png\")"
   ]
  },
  {
   "cell_type": "code",
   "execution_count": null,
   "metadata": {},
   "outputs": [],
   "source": [
    "torch.save(ot, 'generative_model.pth')"
   ]
  },
  {
   "cell_type": "code",
   "execution_count": null,
   "metadata": {},
   "outputs": [],
   "source": []
  }
 ],
 "metadata": {
  "kernelspec": {
   "display_name": "Python 3",
   "language": "python",
   "name": "python3"
  },
  "language_info": {
   "codemirror_mode": {
    "name": "ipython",
    "version": 3
   },
   "file_extension": ".py",
   "mimetype": "text/x-python",
   "name": "python",
   "nbconvert_exporter": "python",
   "pygments_lexer": "ipython3",
   "version": "3.7.4"
  }
 },
 "nbformat": 4,
 "nbformat_minor": 4
}
